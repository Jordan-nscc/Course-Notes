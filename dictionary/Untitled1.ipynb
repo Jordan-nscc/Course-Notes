{
 "cells": [
  {
   "cell_type": "code",
   "execution_count": 1,
   "metadata": {},
   "outputs": [],
   "source": [
    "cards = {\n",
    "    'Two of Club':2,\n",
    "    'Three of Clubs':3,\n",
    "    'Four of Clubs':4,\n",
    "    'Five of Clubs':5,\n",
    "    'Six of Clubs':6,\n",
    "    'Seven of Clubs':7,\n",
    "    'Eight of Clubs':8,\n",
    "    'Nine of Clubs':9,\n",
    "    'Ten of Clubs':10,\n",
    "    'Jack of Clubs':11,\n",
    "    'Queen of Clubs':12,\n",
    "    'King of Clubs':13,\n",
    "    'Ace of Clubs':1,\n",
    "    \n",
    "    'Two of Diamonds':2,\n",
    "    'Three of Diamonds':3,\n",
    "    'Four of Diamonds':4,\n",
    "    'Five of Diamonds':5,\n",
    "    'Six of Diamonds':6,\n",
    "    'Seven of Diamonds':7,\n",
    "    'Eight of Diamonds':8,\n",
    "    'Nine of Diamonds':9,\n",
    "    'Ten of Diamonds':10,\n",
    "    'Jack of Diamonds':11,\n",
    "    'Queen of Diamonds':12,\n",
    "    'King of Diamonds':13,\n",
    "    'Ace of Diamonds':1,\n",
    "    \n",
    "    'Two of Hearts':2,\n",
    "    'Three of Hearts':3,\n",
    "    'Four of Hearts':4,\n",
    "    'Five of Hearts':5,\n",
    "    'Six of Hearts':6,\n",
    "    'Seven of Hearts':7,\n",
    "    'Eight of Hearts':8,\n",
    "    'Nine of Hearts':9,\n",
    "    'Ten of Hearts':10,\n",
    "    'Jack of Hearts':11,\n",
    "    'Queen of Hearts':12,\n",
    "    'King of Hearts':13,\n",
    "    'Ace of Hearts':1,\n",
    "    \n",
    "    'Two of Spades':2,\n",
    "    'Three of Spades':3,\n",
    "    'Four of Spades':4,\n",
    "    'Five of Spades':5,\n",
    "    'Six of Spades':6,\n",
    "    'Seven of Spades':7,\n",
    "    'Eight of Spades':8,\n",
    "    'Nine of Spades':9,\n",
    "    'Ten of Spades':10,\n",
    "    'Jack of Spades':11,\n",
    "    'Queen of Spades':12,\n",
    "    'King of Spades':13,\n",
    "    'Ace of Spades':1,\n",
    "}\n",
    "\n",
    "hand_total = 0\n",
    "\n",
    "# pick two cards\n",
    "card_one = cards.popitem()\n",
    "card_two = cards.popitem()\n",
    "\n",
    "hand_total += card_one[1] + card_two[1]\n",
    "print(f\"hand_total = {hand_total}\"\")"
   ]
  },
  {
   "cell_type": "code",
   "execution_count": 2,
   "metadata": {},
   "outputs": [
    {
     "name": "stdout",
     "output_type": "stream",
     "text": [
      "('Ace of Spades', 1)\n"
     ]
    }
   ],
   "source": [
    "print(cards.popitem())"
   ]
  },
  {
   "cell_type": "code",
   "execution_count": null,
   "metadata": {},
   "outputs": [],
   "source": []
  }
 ],
 "metadata": {
  "kernelspec": {
   "display_name": "Python 3",
   "language": "python",
   "name": "python3"
  },
  "language_info": {
   "codemirror_mode": {
    "name": "ipython",
    "version": 3
   },
   "file_extension": ".py",
   "mimetype": "text/x-python",
   "name": "python",
   "nbconvert_exporter": "python",
   "pygments_lexer": "ipython3",
   "version": "3.7.3"
  }
 },
 "nbformat": 4,
 "nbformat_minor": 2
}
